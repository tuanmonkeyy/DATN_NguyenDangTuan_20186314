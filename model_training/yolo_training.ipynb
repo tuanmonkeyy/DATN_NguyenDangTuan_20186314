{
 "cells": [
  {
   "cell_type": "code",
   "execution_count": null,
   "metadata": {},
   "outputs": [],
   "source": [
    "#Clone github darknet\n",
    "%cd /workspace/datn\n",
    "!git clone https://github.com/AlexeyAB/darknet\n",
    "!chmod -R 777 darknet/"
   ]
  },
  {
   "cell_type": "code",
   "execution_count": null,
   "metadata": {},
   "outputs": [],
   "source": [
    "#cấu hình sử dụng GPU ở Makefile và build\n",
    "%cd /workspace/datn/darknet\n",
    "!sed -i 's/GPU=0/GPU=1/' Makefile\n",
    "!sed -i 's/CUDNN=0/CUDNN=1/' Makefile\n",
    "!sed -i 's/CUDNN_HALF=0/CUDNN_HALF=1/' Makefile\n",
    "!sed -i 's/OPENCV=0/OPENCV=1/' Makefile\n",
    "!make"
   ]
  },
  {
   "cell_type": "code",
   "execution_count": null,
   "metadata": {},
   "outputs": [],
   "source": [
    "#Tải dataset và giải nén\n",
    "!pip install gdown\n",
    "%cd /workspace/datn/darknet/data\n",
    "!gdown --fuzzy 'https://drive.google.com/file/d/15Vxq8nILYMPxJos0YMpVpqjSV-uQrpf1/view?usp=share_link'\n",
    "%cd /workspace/datn/darknet/data\n",
    "!unzip data.zip > /dev/null 2>&1"
   ]
  },
  {
   "cell_type": "code",
   "execution_count": null,
   "metadata": {},
   "outputs": [],
   "source": [
    "# Kiểm tra việc giải nén dataset\n",
    "import glob2\n",
    "import os\n",
    "\n",
    "files = []\n",
    "for ext in [\"*.png\", \"*.jpeg\", \"*.jpg\", \"*.txt\"]:\n",
    "  image_files = glob2.glob(os.path.join(\"data/\", ext))\n",
    "  files += image_files\n",
    "print(\"Tổng số ảnh và nhãn :\",len(files))"
   ]
  },
  {
   "cell_type": "code",
   "execution_count": null,
   "metadata": {},
   "outputs": [],
   "source": [
    "# Tải pre-trained weights trên MS-COCO\n",
    "# Đối với YOLOv4 leaky tải tại đây https://avtinc-my.sharepoint.com/personal/harry_nguyen_avnet_com/_layouts/15/onedrive.aspx?id=%2Fpersonal%2Fharry%5Fnguyen%5Favnet%5Fcom%2FDocuments%2FDocuments%2Fyolov4%5Fguide%2Fxilinx%5Fyolov4%5Fpretrained%2Fyolov4%2Dleaky%5Fcoco%5Ftf%5Fbest%2Eweights&parent=%2Fpersonal%2Fharry%5Fnguyen%5Favnet%5Fcom%2FDocuments%2FDocuments%2Fyolov4%5Fguide%2Fxilinx%5Fyolov4%5Fpretrained&ga=1\n",
    "%cd /workspace/datn/darknet/\n",
    "!wget https://pjreddie.com/media/files/darknet53.conv.74 #YOLOv3\n",
    "!gdown --fuzzy 'https://drive.google.com/file/d/18v36esoXCh-PsOKwyP2GWrpYDptDY8Zf/view?usp=sharing' #YOLOv3-tiny và YOLOv3-tiny-3L\n",
    "!wget https://github.com/AlexeyAB/darknet/releases/download/darknet_yolo_v4_pre/yolov4-tiny.conv.29 #YOLOv4-tiny và YOLOv4-tiny-3L"
   ]
  },
  {
   "cell_type": "code",
   "execution_count": null,
   "metadata": {},
   "outputs": [],
   "source": [
    "# Sau khi sửa đổi cfg file, tiến hành huấn luyện, log được lưu trong file text yolov3.txt và đồ thị hàm mất mát và mAP lưu tại chart.png \n",
    "%cd /workspace/datn/darknet/\n",
    "!./darknet detector train /workspace/datn/darknet/yolov3/yolov3.data\\\n",
    "                          /workspace/datn/darknet/yolov3/yolov3.cfg\\\n",
    "                          /workspace/datn/darknet/darknet53.conv.74\\\n",
    "                          -dont_show -map 2>&1 | tee yolov3.txt"
   ]
  },
  {
   "cell_type": "code",
   "execution_count": null,
   "metadata": {},
   "outputs": [],
   "source": [
    "# Đánh giá mAP\n",
    "./darknet detector map /home/tuan/darknet/final_weights_cfg/yolo.data\\\n",
    "                        /home/tuan/darknet/final_weights_cfg/yolov3/yolov3.cfg\\\n",
    "                        /home/tuan/darknet/final_weights_cfg/yolov3/yolov3_best.weights"
   ]
  },
  {
   "cell_type": "code",
   "execution_count": null,
   "metadata": {},
   "outputs": [],
   "source": [
    "# Test ảnh\n",
    "./darknet detector test /home/tuan/darknet/yolov3-tiny/yolov3-tiny.data\\\n",
    "                        /home/tuan/darknet/yolov3-tiny/yolov3-tiny.cfg\\\n",
    "                        /home/tuan/darknet/yolov3-tiny_640x480/yolov3-tiny_best.weights\\\n",
    "                        /home/tuan/darknet/dutuav_train1070.jpg"
   ]
  },
  {
   "cell_type": "code",
   "execution_count": null,
   "metadata": {},
   "outputs": [],
   "source": [
    "# Demo video\n",
    "./darknet detector demo /home/tuan/darknet/yolov4-tiny-3l/yolov4-tiny-3l.data\\\n",
    "                        /home/tuan/darknet/yolov4-tiny-3l/yolov4-tiny-3l.cfg\\\n",
    "                        /home/tuan/darknet/backup/yolov4-tiny-3l/yolov4-tiny-3l_best.weights\\\n",
    "                        /home/tuan/darknet/demo/fighter1.mp4"
   ]
  },
  {
   "cell_type": "code",
   "execution_count": null,
   "metadata": {},
   "outputs": [],
   "source": [
    "#Demo webcam\n",
    "./darknet detector demo /home/tuan/darknet/yolov4-tiny-3l/yolov4-tiny-3l.data\\\n",
    "                        /home/tuan/darknet/yolov4-tiny-3l/yolov4-tiny-3l.cfg\\\n",
    "                        /home/tuan/darknet/backup/yolov4-tiny-3l/yolov4-tiny-3l_best.weights\\\n",
    "                        -c 0"
   ]
  },
  {
   "cell_type": "code",
   "execution_count": null,
   "metadata": {},
   "outputs": [],
   "source": [
    "# Video benchmark\n",
    "./darknet detector demo /home/tuan/darknet/final_weights_cfg/yolo.data\\\n",
    "                        /home/tuan/darknet/final_weights_cfg/yolov4/yolov4.cfg\\\n",
    "                        /home/tuan/darknet/final_weights_cfg/yolov4/yolov4_best.weights\\\n",
    "                        /home/tuan/darknet/test.mp4\\\n",
    "                        -benchmark"
   ]
  },
  {
   "cell_type": "code",
   "execution_count": null,
   "metadata": {},
   "outputs": [],
   "source": [
    "# Lưu kết quả\n",
    "for i in data/test_set/all/*.jpg; do ./darknet detector test final_weights_cfg/yolo.data final_weights_cfg/yolov4/yolov4.cfg final_weights_cfg/yolov4/yolov4_best.weights \"$i\" -thresh 0.15 -iou_thresh 0.25 -dont_show; mv predictions.jpg \"${i%.jpg}\"_yolov4-512.jpg; done"
   ]
  },
  {
   "cell_type": "code",
   "execution_count": null,
   "metadata": {},
   "outputs": [],
   "source": [
    "#calculate anchor\n",
    "./darknet detector calc_anchors /home/tuan/darknet/final_weights_cfg/yolo.data\\\n",
    "                        -num_of_clusters 9 -width 640 -height 480"
   ]
  }
 ],
 "metadata": {
  "kernelspec": {
   "display_name": "Python 3",
   "language": "python",
   "name": "python3"
  },
  "language_info": {
   "codemirror_mode": {
    "name": "ipython",
    "version": 3
   },
   "file_extension": ".py",
   "mimetype": "text/x-python",
   "name": "python",
   "nbconvert_exporter": "python",
   "pygments_lexer": "ipython3",
   "version": "3.6.9"
  }
 },
 "nbformat": 4,
 "nbformat_minor": 4
}
